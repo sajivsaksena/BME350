{
  "nbformat": 4,
  "nbformat_minor": 0,
  "metadata": {
    "colab": {
      "provenance": []
    },
    "kernelspec": {
      "name": "python3",
      "display_name": "Python 3"
    },
    "language_info": {
      "name": "python"
    },
    "accelerator": "GPU"
  },
  "cells": [
    {
      "cell_type": "markdown",
      "source": [
        "# Training models for Factorizable Library generation\n",
        "\n",
        "This notebook serves as a demo for training models for use in generating Stochastically Annealed Product Space (SAPS) libraries as presented by _Dai & Saksena et. al. 2022_. Here, an example of training a reverse kernel model using ranibizumab affinity selection data is presented. "
      ],
      "metadata": {
        "id": "NlQS2Mo64pBo"
      }
    },
    {
      "cell_type": "markdown",
      "metadata": {
        "id": "T5NEtmgSpYUT"
      },
      "source": [
        "## Brief background on Google Colab\n",
        "\n",
        "Google Colab is a free cloud-based service that combines the interactive execution environment of Jupyter Notebooks with cloud compute. A good introduction to Google Colab can be found [here](https://colab.research.google.com/notebooks/welcome.ipynb).\n",
        "\n",
        "Google Colab notebooks can be used with GPU acceleration. If you haven't already, make a copy of the notebook to your Drive by going to File->Save A Copy In Drive so that you can edit the notebook. To enable GPU acceleration, go to Runtime->Change runtime type and select GPU under Hardware accelerator. In the top right corner, there should also be a green tick indicating you are connected to a hosted runtime. If not, click to reconnect. More information is available [here](https://colab.research.google.com/notebooks/gpu.ipynb)\n",
        "\n",
        "Then, if correctly set up, `nvidia-smi` should return information about the available GPU. "
      ]
    },
    {
      "cell_type": "code",
      "execution_count": 1,
      "metadata": {
        "colab": {
          "base_uri": "https://localhost:8080/"
        },
        "id": "shhqLQvOy2Au",
        "outputId": "fa46f72c-668b-4d7f-bfe6-5710a4be8da1"
      },
      "outputs": [
        {
          "output_type": "stream",
          "name": "stdout",
          "text": [
            "Thu Dec  1 07:14:33 2022       \n",
            "+-----------------------------------------------------------------------------+\n",
            "| NVIDIA-SMI 460.32.03    Driver Version: 460.32.03    CUDA Version: 11.2     |\n",
            "|-------------------------------+----------------------+----------------------+\n",
            "| GPU  Name        Persistence-M| Bus-Id        Disp.A | Volatile Uncorr. ECC |\n",
            "| Fan  Temp  Perf  Pwr:Usage/Cap|         Memory-Usage | GPU-Util  Compute M. |\n",
            "|                               |                      |               MIG M. |\n",
            "|===============================+======================+======================|\n",
            "|   0  Tesla T4            Off  | 00000000:00:04.0 Off |                    0 |\n",
            "| N/A   57C    P0    27W /  70W |      0MiB / 15109MiB |      0%      Default |\n",
            "|                               |                      |                  N/A |\n",
            "+-------------------------------+----------------------+----------------------+\n",
            "                                                                               \n",
            "+-----------------------------------------------------------------------------+\n",
            "| Processes:                                                                  |\n",
            "|  GPU   GI   CI        PID   Type   Process name                  GPU Memory |\n",
            "|        ID   ID                                                   Usage      |\n",
            "|=============================================================================|\n",
            "|  No running processes found                                                 |\n",
            "+-----------------------------------------------------------------------------+\n"
          ]
        }
      ],
      "source": [
        "!nvidia-smi"
      ]
    },
    {
      "cell_type": "markdown",
      "source": [
        "## Clone into FactorizableLibrary github repo\n",
        "This will automatically load in example datasets for running SAPS. Here, we will train dot product models"
      ],
      "metadata": {
        "id": "U-RsaiHT1owZ"
      }
    },
    {
      "cell_type": "code",
      "source": [
        "!git clone https://github.com/gifford-lab/FactorizableLibrary.git\n",
        "%cd FactorizableLibrary/model_training/"
      ],
      "metadata": {
        "colab": {
          "base_uri": "https://localhost:8080/"
        },
        "id": "8o3lzcv7zprf",
        "outputId": "b6c32ecd-b7b9-4116-d03d-13bfae1c6252"
      },
      "execution_count": 2,
      "outputs": [
        {
          "output_type": "stream",
          "name": "stdout",
          "text": [
            "Cloning into 'FactorizableLibrary'...\n",
            "remote: Enumerating objects: 412, done.\u001b[K\n",
            "remote: Counting objects: 100% (88/88), done.\u001b[K\n",
            "remote: Compressing objects: 100% (58/58), done.\u001b[K\n",
            "remote: Total 412 (delta 25), reused 87 (delta 25), pack-reused 324\u001b[K\n",
            "Receiving objects: 100% (412/412), 292.15 MiB | 16.51 MiB/s, done.\n",
            "Resolving deltas: 100% (27/27), done.\n",
            "Checking out files: 100% (317/317), done.\n",
            "/content/FactorizableLibrary/model_training\n"
          ]
        }
      ]
    },
    {
      "cell_type": "code",
      "source": [
        "import os\n",
        "\n",
        "import numpy as np\n",
        "from scipy import stats\n",
        "from scipy.special import softmax\n",
        "import math\n",
        "import random\n",
        "import pickle\n",
        "\n",
        "import torch\n",
        "import torch.nn as nn\n",
        "from torch.nn import functional as F\n",
        "import torch.utils.data\n",
        "from torch.nn.parameter import Parameter\n",
        "from torch.nn import init\n",
        "\n",
        "from tqdm import tqdm"
      ],
      "metadata": {
        "id": "PULH16LE1Lb7"
      },
      "execution_count": 3,
      "outputs": []
    },
    {
      "cell_type": "code",
      "source": [
        "torch.cuda.set_device(0)"
      ],
      "metadata": {
        "id": "t3jlE3fx6FQ_"
      },
      "execution_count": 4,
      "outputs": []
    },
    {
      "cell_type": "markdown",
      "source": [
        "## Load in data helper functions\n",
        "\n",
        "- process() prepares csv data for training by padding and one-hot encoding sequences. \n",
        "- toTensorDataset() prepares torch TensorDatasets for easy loading into PyTorch models.\n",
        "- getData() is a wrapper for both functions to get train and test sets."
      ],
      "metadata": {
        "id": "DHRoUauZ22g5"
      }
    },
    {
      "cell_type": "code",
      "source": [
        "def process(data):\n",
        "    with open(\"./encoding.pkl\", 'rb') as fin:\n",
        "        onehot = pickle.load(fin)\n",
        "        \n",
        "    inputs = []\n",
        "    labels = []\n",
        "    ranges = []\n",
        "    for aa, v in data:\n",
        "        extra = 40-len(aa)\n",
        "        r = math.floor(extra/2)\n",
        "        l = math.ceil(extra/2)\n",
        "        aa = np.array([onehot[c] for c in ('J'*r) + aa + ('J'*l)]).T\n",
        "        rng = (40-l-20, r)\n",
        "        \n",
        "        inputs.append(aa)\n",
        "        labels.append(float(v))\n",
        "        ranges.append(rng)\n",
        "    return inputs, labels, ranges\n",
        "    \n",
        "def toTensorDataset(datalist):\n",
        "    torchds = torch.utils.data.TensorDataset(torch.tensor(np.concatenate([data[0] for data in datalist]), dtype = torch.float32),\n",
        "                                             torch.tensor(np.concatenate([data[1] for data in datalist]), dtype = torch.float32),\n",
        "                                             torch.tensor(np.concatenate([data[2] for data in datalist]), dtype = torch.int64))\n",
        "    return torchds\n",
        "\n",
        "def getData(fname):\n",
        "    with open(fname, 'rb') as fin:\n",
        "        train, test = pickle.load(fin)\n",
        "        \n",
        "    train = [process(z) for z in train]\n",
        "    test = process(test)\n",
        "    test = torch.utils.data.DataLoader(toTensorDataset([test]), batch_size=1000, shuffle=False, num_workers=2, drop_last=False)\n",
        "    return train, test"
      ],
      "metadata": {
        "id": "-O9umPJo1h4f"
      },
      "execution_count": 5,
      "outputs": []
    },
    {
      "cell_type": "markdown",
      "source": [
        "## Define model classes \n",
        "- ResBlock() class is a general residual layer. \n",
        "- EmbedderNet() generates sequence embeddings. \n",
        "\n",
        "### Different model types\n",
        "- Predictor_Dot() is referred to in the manuscript as \"reverse kernel model\" and uses the dot product of two segment embeddings to learn a score. \n",
        "- Predictor_Plus() is referred to in the manuscript as \"independent model\" and learns a score using each segment embedding independently and sums. \n",
        "-Predictor_Joint() is referred to in the manuscript as the \"unrestricted model\" and learns a score using the full length sequence, thereby leveraging all available information. "
      ],
      "metadata": {
        "id": "iJ0B47sS3gVE"
      }
    },
    {
      "cell_type": "code",
      "source": [
        "class ResBlock(nn.Module):\n",
        "    def __init__(self, channels, dilation):\n",
        "        super(ResBlock, self).__init__()\n",
        "        self.conv1 = nn.Conv1d(channels, channels, kernel_size=3, stride=1, padding=dilation, dilation=dilation)\n",
        "        self.conv1_bn = nn.BatchNorm1d(channels)\n",
        "        self.conv2 = nn.Conv1d(channels, channels, kernel_size=3, stride=1, padding=dilation, dilation=dilation)\n",
        "        self.conv2_bn = nn.BatchNorm1d(channels)\n",
        "        \n",
        "    def forward(self, x):\n",
        "        x1 = F.relu( self.conv1_bn( self.conv1(x) ) )\n",
        "        return self.conv2_bn( self.conv2(x1) ) + x\n",
        "\n",
        "class EmbedderNet(nn.Module):\n",
        "    def __init__(self, length, channels, outchannels):\n",
        "        super(EmbedderNet, self).__init__()\n",
        "        self.length = length\n",
        "        \n",
        "        self.pool = nn.MaxPool1d(2, 2, ceil_mode = True)\n",
        "        self.conv = nn.Conv1d(40, channels, 1, 1, 0)\n",
        "        self.conv_bn = nn.BatchNorm1d(channels)\n",
        "        \n",
        "        self.block1 = ResBlock(channels, 1)\n",
        "        self.block2 = ResBlock(channels, 1)\n",
        "        self.block3 = ResBlock(channels, 1)\n",
        "        self.block4 = ResBlock(channels, 1)\n",
        "        self.block5 = ResBlock(channels, 1)\n",
        "        \n",
        "        self.embed_1 = nn.Linear( int( channels*math.ceil(math.ceil(self.length/2)/2) ) , 128)\n",
        "        self.embed_2 = nn.Linear(128, outchannels)\n",
        "\n",
        "        # deprecated positional encoding\n",
        "        position = ( (torch.tensor([i for i in range(self.length)]).view(-1,1)\n",
        "                      - torch.tensor([i for i in range(self.length)]).view(1,-1)) )\n",
        "        stack = []\n",
        "        for i in range(-self.length+1, self.length):\n",
        "            stack.append((position == i).float())\n",
        "        positioncode = torch.stack(stack).view(1,(2*self.length-1),self.length,self.length)\n",
        "        \n",
        "        self.register_buffer(\"position\", positioncode)\n",
        "        \n",
        "    def forward(self, x):\n",
        "        batchsize = x.shape[0]\n",
        "        x = F.relu( self.conv_bn( self.conv(x) ) )\n",
        "        \n",
        "        x = self.block1(x)\n",
        "        x = self.block2(x)\n",
        "        x = self.block3(x)\n",
        "        x = self.pool( self.block4(x) )\n",
        "        x = self.pool( self.block5(x) ).view(batchsize,-1)\n",
        "        return self.embed_2( F.relu( self.embed_1(x) ) )\n",
        "\n",
        "class Predictor_Dot(nn.Module):\n",
        "    def __init__(self):\n",
        "        super(Predictor_Dot, self).__init__()\n",
        "        self.embedSeed = EmbedderNet(10, 64, 16)\n",
        "        \n",
        "        \n",
        "    def forward(self, x):\n",
        "        seed = x\n",
        "        \n",
        "        return torch.sum(self.embedSeed(seed), dim = 1)\n",
        "    \n",
        "class Predictor_Plus(nn.Module):\n",
        "    def __init__(self):\n",
        "        super(Predictor_Plus, self).__init__()\n",
        "        self.embedSeed = EmbedderNet(10, 64, 1)\n",
        "        \n",
        "        \n",
        "    def forward(self, x):\n",
        "        seed = x\n",
        "\n",
        "        return self.embedSeed(seed) \n",
        "    \n",
        "class Predictor_Joint(nn.Module):\n",
        "    def __init__(self):\n",
        "        super(Predictor_Joint, self).__init__()\n",
        "        self.predictor = EmbedderNet(20, 64, 1)\n",
        "        \n",
        "    def forward(self, x):\n",
        "        return self.predictor(x)"
      ],
      "metadata": {
        "id": "lTwEyeHJ3TI2"
      },
      "execution_count": 11,
      "outputs": []
    },
    {
      "cell_type": "markdown",
      "source": [
        "## Define training functions\n",
        "- RandomPadding() implements the random padding procedure described in the manuscript. \n",
        "- validate() applies a trained model to held-out test data to evaluate performance. \n",
        "- getTrainingValidationSplit() splits data into train and test sets and returns train/test Torch DataLoaders. \n",
        "- trainNet() trains specified model. "
      ],
      "metadata": {
        "id": "23we9fYq4U1A"
      }
    },
    {
      "cell_type": "code",
      "source": [
        "def RandomPadding(inputs, bounds):\n",
        "    bounds = bounds.permute((1,0))\n",
        "    indexes = np.random.randint(bounds[0], bounds[1]+1).reshape(-1,1)\n",
        "    gatherindex = torch.tensor(\n",
        "        np.array([i for i in range(20)]).reshape(1,-1) + indexes,\n",
        "        dtype = torch.int64 )\n",
        "    gatherindex = gatherindex.view(-1,1,20).repeat(1,40,1)\n",
        "    \n",
        "    result = torch.gather(inputs, 2, gatherindex)\n",
        "    return result\n",
        "\n",
        "def FixedPadding(inputs, bounds):\n",
        "    bounds = bounds.permute((1,0))\n",
        "    indexes = np.ones(bounds[0].shape[0]).reshape(-1,1)*10\n",
        "    gatherindex = torch.tensor(\n",
        "        np.array([i for i in range(20)]).reshape(1,-1) + indexes,\n",
        "        dtype = torch.int64 )\n",
        "    gatherindex = gatherindex.view(-1,1,20).repeat(1,40,1)\n",
        "    \n",
        "    result = torch.gather(inputs, 2, gatherindex)\n",
        "    return result\n",
        "\n",
        "def validate(net, loader, paddingFunction):\n",
        "    predictions = []\n",
        "    targets = []\n",
        "    if len(loader) == 0:\n",
        "        return np.array([]), np.array([])\n",
        "    with torch.no_grad():\n",
        "        pbar = tqdm(loader, position=0, leave=True)\n",
        "        for (data, target, bounds) in pbar:\n",
        "            data = paddingFunction(data, bounds).cuda()\n",
        "            predictions.append( net(data).cpu().numpy().reshape(-1) )\n",
        "            targets.append( target.numpy().reshape(-1) )\n",
        "        predictions = np.concatenate(predictions)\n",
        "        targets = np.concatenate(targets)\n",
        "        return predictions, targets\n",
        "\n",
        "def getTrainingValidationSplit(data, i):\n",
        "    t = toTensorDataset( data[:i] + data[i+1:] )\n",
        "    v = toTensorDataset([data[i]])\n",
        "    trainloader = torch.utils.data.DataLoader(t, batch_size=100, shuffle=True, num_workers=2, drop_last=True)\n",
        "    valloader = torch.utils.data.DataLoader(v, batch_size=1000, shuffle=False, num_workers=2, drop_last=False)\n",
        "    return trainloader, valloader\n",
        "\n",
        "# epochs: Number of training epochs\n",
        "# train_loader: Dataloader for training data\n",
        "# validation_loader: Dataloader for validation data\n",
        "# modelname: Descriptive name for model. Can be anything\n",
        "# architecture: Predictor_Dot, Predictor_Joint, or Predictor_Plus\n",
        "# paddingFunction: RandomPadding or FixedPadding\n",
        "def trainNet(epochs, train_loader, validation_loader, modelname, architecture, paddingFunction):\n",
        "    \"\"\"\n",
        "    Inputs:\n",
        "    --------\n",
        "    epochs: Number of training epochs (type: int)\n",
        "    train_loader: Dataloader for training data (type: torch.utils.DataLoader)\n",
        "    validation_loader: Dataloader for validation data (type: torch.utils.DataLoader)\n",
        "    modelname: Descriptive name for model. Can be anything (type: str)\n",
        "    architecture: Predictor_Dot, Predictor_Joint, or Predictor_Plus (type: torch.nn.Module)\n",
        "    paddingFunction: RandomPadding or FixedPadding (type: func)\n",
        "\n",
        "    Outputs:\n",
        "    ---------\n",
        "    net: Trained model (torch.nn.Module)\n",
        "    \"\"\"\n",
        "    net = architecture().cuda()\n",
        "    optimizer = torch.optim.Adam(net.parameters())\n",
        "    lossfunc = nn.MSELoss()\n",
        "    \n",
        "    losses = []\n",
        "    loss_trace = []\n",
        "    validation_trace = []\n",
        "    bestr = float('-inf')\n",
        "    for i in range(epochs):\n",
        "        losses = []\n",
        "        net = net.train()\n",
        "        pbar = tqdm(train_loader, position=0, leave=True)\n",
        "        for (data, target, bounds) in pbar:\n",
        "            optimizer.zero_grad()\n",
        "            data = paddingFunction(data, bounds).cuda()\n",
        "            output = net(data)\n",
        "            \n",
        "            loss = lossfunc(output.reshape(-1), target.cuda() )\n",
        "            \n",
        "            loss.backward()\n",
        "            optimizer.step()\n",
        "            \n",
        "            current_loss = loss.item()\n",
        "            losses.append(current_loss)\n",
        "            \n",
        "            pbar.set_description(\"Batch {}: loss_avg = {:.5f}, loss_now = {:.5f}\".format(i, np.mean(losses), current_loss ))\n",
        "        net = net.eval()\n",
        "        valx, valy = validate(net, validation_loader, paddingFunction)\n",
        "        r = stats.pearsonr(valx, valy)[0]\n",
        "        validation_trace.append(r)\n",
        "        print (\"Epoch {}: r={}\".format(i,r))\n",
        "        \n",
        "        if r > bestr:\n",
        "            torch.save(net.state_dict(), \"./weights/{}_best.pt\".format(modelname))\n",
        "            bestr = r\n",
        "        loss_trace.append(losses)\n",
        "\n",
        "    net = architecture()\n",
        "    net.load_state_dict(torch.load( \"./weights/{}_best.pt\".format(modelname), map_location='cpu' ))\n",
        "    net.eval()\n",
        "    return net, loss_trace, validation_trace"
      ],
      "metadata": {
        "id": "xLGXoMe24U-r"
      },
      "execution_count": 7,
      "outputs": []
    },
    {
      "cell_type": "markdown",
      "source": [
        "## Train models \n",
        "- Below are the steps for training the model using above defined functions and classes. \n",
        "- Note, as we are computing on public GPUs available by Google CoLab, this demo only reflects results for training for 2 epochs. "
      ],
      "metadata": {
        "id": "j5mJCDkQ4nUy"
      }
    },
    {
      "cell_type": "code",
      "source": [
        "# Load in data\n",
        "training_splits, test_loader = getData(\"./data/baculovirus_extract_log_enrichment.pkl\")"
      ],
      "metadata": {
        "id": "80QZorFZ4nbr"
      },
      "execution_count": 8,
      "outputs": []
    },
    {
      "cell_type": "code",
      "source": [
        "# Train the model\n",
        "model, losses, performance_trace = trainNet(\n",
        "    2, *getTrainingValidationSplit(training_splits, 0), \"testrun\", Predictor_Joint, RandomPadding)"
      ],
      "metadata": {
        "colab": {
          "base_uri": "https://localhost:8080/"
        },
        "id": "puDh61y55zYV",
        "outputId": "5782de91-a3a6-49c2-8080-79cd470d1a77"
      },
      "execution_count": 13,
      "outputs": [
        {
          "output_type": "stream",
          "name": "stderr",
          "text": [
            "Batch 0: loss_avg = 0.41482, loss_now = 0.23931: 100%|██████████| 223/223 [00:04<00:00, 46.50it/s]\n",
            "100%|██████████| 3/3 [00:00<00:00, 14.42it/s]\n"
          ]
        },
        {
          "output_type": "stream",
          "name": "stdout",
          "text": [
            "Epoch 0: r=0.8215307680941909\n"
          ]
        },
        {
          "output_type": "stream",
          "name": "stderr",
          "text": [
            "Batch 1: loss_avg = 0.28930, loss_now = 0.31113: 100%|██████████| 223/223 [00:04<00:00, 53.35it/s]\n",
            "100%|██████████| 3/3 [00:00<00:00, 14.74it/s]"
          ]
        },
        {
          "output_type": "stream",
          "name": "stdout",
          "text": [
            "Epoch 1: r=0.8462645221032449\n"
          ]
        },
        {
          "output_type": "stream",
          "name": "stderr",
          "text": [
            "\n"
          ]
        }
      ]
    },
    {
      "cell_type": "code",
      "source": [
        "# Validate the model\n",
        "predictions, values = validate(model.cuda(), test_loader, FixedPadding)\n",
        "stats.pearsonr(predictions, values)"
      ],
      "metadata": {
        "colab": {
          "base_uri": "https://localhost:8080/"
        },
        "id": "vvutHVbv54Mv",
        "outputId": "faf1b5f6-2af7-4480-f6c9-366913b98f0f"
      },
      "execution_count": 14,
      "outputs": [
        {
          "output_type": "stream",
          "name": "stderr",
          "text": [
            "100%|██████████| 7/7 [00:00<00:00, 26.54it/s]\n"
          ]
        },
        {
          "output_type": "execute_result",
          "data": {
            "text/plain": [
              "(0.8622880063525042, 0.0)"
            ]
          },
          "metadata": {},
          "execution_count": 14
        }
      ]
    },
    {
      "cell_type": "code",
      "source": [
        "import matplotlib.pyplot as plt\n",
        "plt.scatter(values, predictions, s=0.2)\n",
        "plt.title(\"Pearson R between affinity measurements and predictions\")\n",
        "plt.xlabel(\"Baculovirus log(R3/R2) enrichment\")\n",
        "plt.ylabel(\"Predicted affinity\")"
      ],
      "metadata": {
        "colab": {
          "base_uri": "https://localhost:8080/",
          "height": 313
        },
        "id": "W-bRAe296Pwx",
        "outputId": "06b9f94e-1391-4f67-b352-08adbaa4d949"
      },
      "execution_count": 15,
      "outputs": [
        {
          "output_type": "execute_result",
          "data": {
            "text/plain": [
              "Text(0, 0.5, 'Predicted affinity')"
            ]
          },
          "metadata": {},
          "execution_count": 15
        },
        {
          "output_type": "display_data",
          "data": {
            "text/plain": [
              "<Figure size 432x288 with 1 Axes>"
            ],
            "image/png": "[encoded data removed]"
          },
          "metadata": {
            "needs_background": "light"
          }
        }
      ]
    }
  ]
}